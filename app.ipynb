{
  "cells": [
    {
      "cell_type": "markdown",
      "metadata": {
        "id": "view-in-github",
        "colab_type": "text"
      },
      "source": [
        "<a href=\"https://colab.research.google.com/github/sheena-k/Customer_Churn_Analysis/blob/main/app.ipynb\" target=\"_parent\"><img src=\"https://colab.research.google.com/assets/colab-badge.svg\" alt=\"Open In Colab\"/></a>"
      ]
    },
    {
      "cell_type": "code",
      "execution_count": null,
      "metadata": {
        "vscode": {
          "languageId": "plaintext"
        },
        "id": "M-sqCJkn5s0c"
      },
      "outputs": [],
      "source": [
        "import tempfile\n",
        "import streamlit as st\n",
        "from langchain.chains.conversational_retrieval.base import ConversationalRetrievalChain\n",
        "from langchain.embeddings import OpenAIEmbeddings\n",
        "from langchain.vectorstores import Chroma\n",
        "from langchain_openai import ChatOpenAI\n",
        "from langchain.document_loaders import PyPDFLoader, Docx2txtLoader, TextLoader\n",
        "from langchain.text_splitter import CharacterTextSplitter\n",
        "from secret_key import openai_api_key\n",
        "\n"
      ]
    },
    {
      "cell_type": "code",
      "execution_count": null,
      "metadata": {
        "vscode": {
          "languageId": "plaintext"
        },
        "id": "XLW4p2475s0g"
      },
      "outputs": [],
      "source": [
        "# Directory path for storing the Chroma database\n",
        "DIR_PATH = \"data\"\n",
        "openai_api_key = \"\"  # Your OpenAI API key\n",
        "\n"
      ]
    },
    {
      "cell_type": "code",
      "execution_count": null,
      "metadata": {
        "vscode": {
          "languageId": "plaintext"
        },
        "id": "jT5fUPUL5s0g"
      },
      "outputs": [],
      "source": [
        "# List of keywords related to agriculture\n",
        "agriculture_keywords = [\"crop\", \"soil\", \"irrigation\", \"pest\", \"harvest\", \"farm\", \"agriculture\", \"fertilizer\", \"yield\", \"plant\",\n",
        "                       \"remedies\",\"symptoms\",\"causes\"]\n",
        "\n"
      ]
    },
    {
      "cell_type": "code",
      "execution_count": null,
      "metadata": {
        "vscode": {
          "languageId": "plaintext"
        },
        "id": "AXYl0zyn5s0h"
      },
      "outputs": [],
      "source": [
        "# Process uploaded documents\n",
        "def process_docs(uploads):\n",
        "    documents = []\n",
        "    for file in uploads:\n",
        "        with tempfile.NamedTemporaryFile(delete=False) as tmp_file:\n",
        "            tmp_file.write(file.read())\n",
        "            filename = file.name\n",
        "            if filename.endswith('.pdf'):\n",
        "                loader = PyPDFLoader(tmp_file.name)\n",
        "                documents.extend(loader.load())\n",
        "            elif filename.endswith('.docx') or filename.endswith('.doc'):\n",
        "                loader = Docx2txtLoader(tmp_file.name)\n",
        "                documents.extend(loader.load())\n",
        "            elif filename.endswith('.txt'):\n",
        "                loader = TextLoader(tmp_file.name)\n",
        "                documents.extend(loader.load())\n",
        "    return documents\n",
        "\n"
      ]
    },
    {
      "cell_type": "code",
      "execution_count": null,
      "metadata": {
        "vscode": {
          "languageId": "plaintext"
        },
        "id": "_aMdwLJx5s0i"
      },
      "outputs": [],
      "source": [
        "# Generate a response based on the prompt, texts, embeddings, and chat history\n",
        "def generate_response(prompt, texts, embeddings, chat_history):\n",
        "    db = Chroma.from_documents(texts, embedding=embeddings, persist_directory=DIR_PATH)\n",
        "    db.persist()\n",
        "    retriever = db.as_retriever(search_kwargs={'k': 7})\n",
        "\n",
        "    qa_chain = ConversationalRetrievalChain.from_llm(\n",
        "        llm=ChatOpenAI(model=model, openai_api_key=openai_api_key),\n",
        "        retriever=retriever,\n",
        "        return_source_documents=True\n",
        "    )\n",
        "    response = qa_chain.invoke({'question': prompt, 'chat_history': chat_history})\n",
        "    return response\n",
        "\n"
      ]
    },
    {
      "cell_type": "code",
      "execution_count": null,
      "metadata": {
        "vscode": {
          "languageId": "plaintext"
        },
        "id": "J-G4hgSV5s0i"
      },
      "outputs": [],
      "source": [
        "# Check if the prompt is related to agriculture\n",
        "def is_agriculture_related(prompt):\n",
        "    return any(keyword in prompt.lower() for keyword in agriculture_keywords)\n",
        "\n"
      ]
    },
    {
      "cell_type": "code",
      "execution_count": null,
      "metadata": {
        "vscode": {
          "languageId": "plaintext"
        },
        "id": "W5Sk11MG5s0j"
      },
      "outputs": [],
      "source": [
        "# Initialize session state keys if they don't exist\n",
        "if 'texts' not in st.session_state:\n",
        "    st.session_state['texts'] = []\n",
        "if 'embeddings' not in st.session_state:\n",
        "    st.session_state['embeddings'] = None\n",
        "if 'generated' not in st.session_state:\n",
        "    st.session_state['generated'] = []\n",
        "if 'past' not in st.session_state:\n",
        "    st.session_state['past'] = []\n",
        "if 'messages' not in st.session_state:\n",
        "    st.session_state['messages'] = []\n",
        "if 'model_name' not in st.session_state:\n",
        "    st.session_state['model_name'] = []\n",
        "if 'file_uploader_key' not in st.session_state:\n",
        "    st.session_state['file_uploader_key'] = 0\n",
        "\n",
        "# Main Streamlit app\n",
        "st.title(\"Document-Based Conversational AI\")\n",
        "\n",
        "uploaded_files = st.file_uploader(\"Upload your agricultural documents\", accept_multiple_files=True, key=st.session_state['file_uploader_key'])\n",
        "upload_button = st.button(\"Upload\")\n",
        "clear_button = st.button(\"Clear\")\n",
        "\n",
        "if upload_button:\n",
        "    with st.spinner('Uploading...'):\n",
        "        if uploaded_files:\n",
        "            documents = process_docs(uploaded_files)\n",
        "            text_splitter = CharacterTextSplitter(chunk_size=1200, chunk_overlap=10)\n",
        "            texts = text_splitter.split_documents(documents)\n",
        "            st.session_state['texts'] = texts\n",
        "            embeddings = OpenAIEmbeddings(openai_api_key=openai_api_key)\n",
        "            st.session_state['embeddings'] = embeddings\n",
        "    if embeddings:\n",
        "        st.sidebar.write(\"Uploading done\")\n",
        "\n"
      ]
    },
    {
      "cell_type": "code",
      "execution_count": null,
      "metadata": {
        "vscode": {
          "languageId": "plaintext"
        },
        "id": "JtFFVH0G5s0k"
      },
      "outputs": [],
      "source": [
        "# Map model names to OpenAI model IDs\n",
        "model_name = st.sidebar.selectbox(\"Select Model\", [\"GPT-3.5\", \"GPT-4\"])\n",
        "model = \"gpt-3.5-turbo\" if model_name == \"GPT-3.5\" else \"gpt-4\"\n",
        "\n",
        "# Reset everything\n",
        "if clear_button:\n",
        "    st.session_state['generated'] = []\n",
        "    st.session_state['past'] = []\n",
        "    st.session_state['messages'] = []\n",
        "    st.session_state['model_name'] = []\n",
        "    st.session_state['texts'] = []\n",
        "    st.session_state['embeddings'] = None\n",
        "    st.session_state[\"file_uploader_key\"] += 1\n",
        "    st.experimental_rerun()\n",
        "\n",
        "# Container for chat history\n",
        "response_container = st.container()\n",
        "# Container for text box\n",
        "container = st.container()\n",
        "\n",
        "with container:\n",
        "    with st.form(key='my_form', clear_on_submit=True):\n",
        "        user_input = st.text_area(\"You:\", key='input', height=100)\n",
        "        submit_button = st.form_submit_button(label='Send')\n",
        "\n",
        "    if submit_button and user_input:\n",
        "        if st.session_state.get('embeddings'):\n",
        "            if is_agriculture_related(user_input):\n",
        "                output = generate_response(user_input, st.session_state['texts'], st.session_state['embeddings'], st.session_state['messages'])\n",
        "            else:\n",
        "                output = {\"answer\": \"This query does not appear to be related to agriculture. Please ask an agriculture-related question.\"}\n",
        "            st.session_state['past'].append(user_input)\n",
        "            st.session_state['generated'].append(output['answer'])\n",
        "            st.session_state['messages'].append((user_input, output['answer']))\n",
        "            st.session_state['model_name'].append(model_name)\n",
        "        else:\n",
        "            st.warning('No files uploaded', icon=\"⚠️\")\n",
        "\n",
        "if st.session_state.get('generated'):\n",
        "    with response_container:\n",
        "        for i in range(len(st.session_state['generated'])):\n",
        "            st.text_area(\"User:\", st.session_state[\"past\"][i], key=str(i) + '_user')\n",
        "            st.text_area(\"Bot:\", st.session_state[\"generated\"][i], key=str(i) + '_bot')\n"
      ]
    },
    {
      "cell_type": "code",
      "execution_count": null,
      "metadata": {
        "vscode": {
          "languageId": "plaintext"
        },
        "id": "uoGEzshf5s0l"
      },
      "outputs": [],
      "source": []
    },
    {
      "cell_type": "code",
      "execution_count": null,
      "metadata": {
        "vscode": {
          "languageId": "plaintext"
        },
        "id": "Da8EivQ_5s0l"
      },
      "outputs": [],
      "source": []
    }
  ],
  "metadata": {
    "language_info": {
      "name": "python"
    },
    "colab": {
      "provenance": [],
      "include_colab_link": true
    }
  },
  "nbformat": 4,
  "nbformat_minor": 0
}